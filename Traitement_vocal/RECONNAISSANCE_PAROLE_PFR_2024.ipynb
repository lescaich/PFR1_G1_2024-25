{
 "cells": [
  {
   "cell_type": "code",
   "execution_count": 20,
   "id": "1d8b446e-8e7e-4c82-9824-3a599dde3615",
   "metadata": {},
   "outputs": [
    {
     "name": "stdout",
     "output_type": "stream",
     "text": [
      "Speak!\n",
      "End!\n",
      "Vous avez dit :  contourne le cube noir\n"
     ]
    }
   ],
   "source": [
    "import speech_recognition as sr\n",
    "import pyaudio\n",
    "from gtts import gTTS\n",
    "r = sr.Recognizer()\n",
    "micro = sr.Microphone()\n",
    "with micro as source:\n",
    "    print(\"Speak!\")\n",
    "    audio_data = r.listen(source)\n",
    "    print(\"End!\")\n",
    "result = r.recognize_google(audio_data, language=\"fr-FR\")\n",
    "# pour une reconnaissance de la parole en anglais\n",
    "# result = r.recognize_google(audio_data, language=\"en-EN\")\n",
    "print (\"Vous avez dit : \", result)\n"
   ]
  },
  {
   "cell_type": "markdown",
   "id": "bc98aaf3-9906-4397-92b7-d00e48e23f34",
   "metadata": {},
   "source": [
    "### Compte-rendu de vos tests\n",
    "===\n",
    "Exemple de commentaires\n",
    "Enoncé = avance de deux mètres et tourne à droite\n",
    "Speak!\n",
    "End!\n",
    "Vous avez dit : avance de 2 m et tourner à droite\n",
    "Cela permet étudier la qualité du résultat et le type d'erreur\n",
    "En reconnaissance de la parole un mot est soit :\n",
    "- bien reconnu,\n",
    "- omis (n'est pas dans la transcription),\n",
    "- substituté (remplacé par un autre)\n",
    "- ou inséré (apparaît dans la transcription sans avoir été prononcé)\n",
    "===\n",
    "Il est conseillé de tester les différents types de commandes avec les différents type de\n",
    "voix (membre du groupe )pour produire des résultats chiffrés sur les performances\n",
    "atteintes par la reconnaissance de la parole dans le cadre de votre projet.\n",
    "La sortie produite est dans un certain format (nombre et metriques) il peut être\n",
    "nécessaire de nettoyer ou homogénéiser les formats des transcriptions par rapport à ce\n",
    "que vous aviez fait en PFR1."
   ]
  },
  {
   "cell_type": "raw",
   "id": "a286190c-dbcd-4ed4-a56b-4d2ee6d9c2e4",
   "metadata": {},
   "source": [
    "Compte rendu :\n",
    "\n",
    "Avance de 3 metres.\n",
    "Speak!\n",
    "End!\n",
    "Vous avez dit :  avance de 3 m                              BIEN RECONNU\n",
    "\n",
    "Avance vers la balle.\n",
    "Speak!\n",
    "End!\n",
    "Vous avez dit :  avance vers la balle                       BIEN RECONNU\n",
    "\n",
    "Contourne la balle et avance de 8 metres.\n",
    "Speak!\n",
    "End!\n",
    "Vous avez dit :  contourne la balle et avance de             INSERE\n",
    "\n",
    "Tourne autour de la balle verte.\n",
    "Speak!\n",
    "End!\n",
    "Vous avez dit :  tourner autour de la balle verte            SUBSTITUTION\n",
    "\n",
    "Fais un demi tour.\n",
    "Speak!\n",
    "End!\n",
    "Vous avez dit :  fais un demi-tour                           BIEN RECONNU\n",
    "\n",
    "Dirige toi vers le cube.\n",
    "Speak!\n",
    "End!\n",
    "Vous avez dit :  dirige-toi vers le cube                     BIEN RECONNU   \n",
    "\n",
    "Fais des zig-zag pour aller tout droit.\n",
    "Speak!\n",
    "End!\n",
    "Vous avez dit :  fais des zig-zag pour aller tout droit      BIEN RECONNU \n",
    "\n",
    "Contourne le cube noir.\n",
    "Speak!\n",
    "End!\n",
    "Vous avez dit :  contourne le cube noir                      BIEN RECONNU \n"
   ]
  },
  {
   "cell_type": "code",
   "execution_count": 22,
   "id": "9165391e-ee90-4658-ba3b-d8015cc7bdb8",
   "metadata": {},
   "outputs": [
    {
     "name": "stdout",
     "output_type": "stream",
     "text": [
      "Chaine tokenisée : ['contourne', 'le', 'cube', 'noir']\n"
     ]
    }
   ],
   "source": [
    "import re\n",
    "def normaliser_transcription(transcription):\n",
    "    \"\"\"\n",
    "    Normaliser une chaîne de transcription en effectuant les étapes suivantes :\n",
    "    1. Mise en minuscule\n",
    "    2. Suppression des caractères spéciaux et ponctuation\n",
    "    3. Suppression des espaces multiples\n",
    "    4. Découpage en mots (tokenisation)\n",
    "    \"\"\"\n",
    "    # transformation de la chaine en tokens\n",
    "    # Étape 1 : Mise en minuscule\n",
    "    transcription = transcription.lower()\n",
    "    \n",
    "    # Étape 2 : Suppression des caractères spéciaux (conserver lettres, chiffres et espaces)\n",
    "    transcription = re.sub(r\"[^a-z0-9\\s]\", \"\", transcription)\n",
    "\n",
    "    # Étape 3 : Suppression des espaces multiples\n",
    "    transcription = re.sub(r\"\\s+\", \" \", transcription).strip()\n",
    "\n",
    "    # Étape 4 : Découpage en tokens (mots séparés par des espaces)\n",
    "    chaine_tokenisee = transcription.split()\n",
    "\n",
    "    # Affichage pour vérification (facultatif)\n",
    "    print(\"Chaine tokenisée :\", chaine_tokenisee)\n",
    "\n",
    "    return chaine_tokenisee\n",
    "\n",
    "Liste_mots = normaliser_transcription(result)"
   ]
  },
  {
   "cell_type": "markdown",
   "id": "30045709-0646-4591-ab62-af5a15f632ed",
   "metadata": {},
   "source": [
    "Reconnaissance + Interprétation + Synthèse\n",
    "On peut enchainer les traitements.\n",
    "RECONNAISSANCE DE LA PAROLE (voir ci-dessus)\n",
    "INTERPRETATION = Il peut être nécessaire d'écrire une fonction d'interprétation qui transforme la phrase transcrite en\n",
    "commande à exécuter. Cela repose sur ce que vous avez fait dans le PFR1. Vous pouvez demander l'exécution d'un\n",
    "programme C en donnant en paramètre la transcription nettoyée (si nécessaire).\n",
    "STNTHESE DE LA PAROLE = La cellule ci-dessous permet de synthétiser une message. Du point de vue IHM"
   ]
  },
  {
   "cell_type": "code",
   "execution_count": 23,
   "id": "1bda6837-9005-486d-b29e-7de620717bbd",
   "metadata": {},
   "outputs": [],
   "source": [
    "def text_to_speech(text):\n",
    "    # Initialize gTTS with the text to convert\n",
    "    speech = gTTS(text, lang=\"fr\", slow=False)\n",
    "    # Save the audio file to a temporary file\n",
    "    speech_file = 'speech.mp3'\n",
    "    speech.save(speech_file)\n",
    "    # Play the audio file\n",
    "    os.system('afplay ' + speech_file)"
   ]
  },
  {
   "cell_type": "code",
   "execution_count": 29,
   "id": "345015be-cb98-4b50-83c3-752d82aa0c50",
   "metadata": {},
   "outputs": [
    {
     "name": "stdout",
     "output_type": "stream",
     "text": [
      "Speak!\n",
      "End!\n",
      "Vous avez dit :  avance de 2 mètres et tourner à gauche pour ensuite te diriger vers la balle verte\n",
      "Chaine tokenisée : ['avance', 'de', '2', 'mtres', 'et', 'tourner', 'gauche', 'pour', 'ensuite', 'te', 'diriger', 'vers', 'la', 'balle', 'verte']\n"
     ]
    }
   ],
   "source": [
    "## CELLULE ASSISTANT VOCAL\n",
    "import os\n",
    "import speech_recognition as sr\n",
    "import pyaudio\n",
    "from gtts import gTTS\n",
    "\n",
    "r = sr.Recognizer()\n",
    "micro = sr.Microphone()\n",
    "with micro as source:\n",
    "    print(\"Speak!\")\n",
    "    audio_data = r.listen(source)\n",
    "    print(\"End!\")\n",
    "transcription = r.recognize_google(audio_data, language=\"fr-FR\")\n",
    "# pour une reconnaissance de la parole en anglais\n",
    "#result = r.recognize_google(audio_data, language=\"en-EN\")\n",
    "print (\"Vous avez dit : \", transcription)\n",
    "#...\n",
    "message_reponse = \"je vous ai compris !!\"\n",
    "text_to_speech(message_reponse)\n",
    "\n",
    "\n",
    "mots_cles=normaliser_transcription(transcription)\n"
   ]
  },
  {
   "cell_type": "raw",
   "id": "e162f262-1d43-417f-a1a6-d07f1cc7dbbf",
   "metadata": {},
   "source": [
    "5.4) Faire un rapport des résultats\n",
    "Exemple de résultat\n",
    "===\n",
    "Enoncé : appele Paul\n",
    "Speak!\n",
    "End!\n",
    "Vous avez dit : appelle Paul\n",
    "['appelle', 'Paul']\n",
    "<generator object FeatureChart.parses at 0x7f85dc1dd270>\n",
    "interpretation = (CONTACTER[INTERP=(callPerson, Paul)])\n",
    "chaine_a_interpreter = callPerson, Paul\n",
    "==="
   ]
  },
  {
   "cell_type": "raw",
   "id": "5aa810d9-3cdc-4f7c-9c69-0fd7972ff11c",
   "metadata": {},
   "source": [
    "Rapport des resultats:\n",
    "Enoncé : Avance tout droit et contourne la balle verte.\n",
    "Speak!\n",
    "End!\n",
    "Vous avez dit :  avance tout droit contourne la balle verte\n",
    "Chaine tokenisée : ['avance', 'tout', 'droit', 'contourne', 'la', 'balle', 'verte']\n",
    "\n",
    "Enoncé : Avance de 2 mètres et tourne à gauche pour ensuite te diriger vers la balle verte.\n",
    "Speak!\n",
    "End!\n",
    "Vous avez dit :  avance de 2 mètres et tourner à gauche pour ensuite te diriger vers la balle verte\n",
    "Chaine tokenisée : ['avance', 'de', '2', 'mtres', 'et', 'tourner', 'gauche', 'pour', 'ensuite', 'te', 'diriger', 'vers', 'la', 'balle', 'verte']"
   ]
  }
 ],
 "metadata": {
  "kernelspec": {
   "display_name": "Python 3 (ipykernel)",
   "language": "python",
   "name": "python3"
  },
  "language_info": {
   "codemirror_mode": {
    "name": "ipython",
    "version": 3
   },
   "file_extension": ".py",
   "mimetype": "text/x-python",
   "name": "python",
   "nbconvert_exporter": "python",
   "pygments_lexer": "ipython3",
   "version": "3.9.21"
  }
 },
 "nbformat": 4,
 "nbformat_minor": 5
}
